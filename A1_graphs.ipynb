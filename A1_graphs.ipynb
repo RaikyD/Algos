{
 "cells": [
  {
   "cell_type": "code",
   "execution_count": null,
   "id": "initial_id",
   "metadata": {
    "collapsed": true
   },
   "outputs": [],
   "source": [
    "import pandas as pd\n",
    "import matplotlib.pyplot as plt\n",
    "\n",
    "# Загрузка данных из CSV-файла\n",
    "data = pd.read_csv(\"results.csv\")\n",
    "\n",
    "# Точная площадь пересечения, известная из задачи\n",
    "true_area = 0.94\n",
    "\n",
    "# Вычисляем относительное отклонение\n",
    "data['Relative_Error_Wide'] = abs(data['Area_wide'] - true_area) / true_area * 100\n",
    "data['Relative_Error_Tight'] = abs(data['Area_tight'] - true_area) / true_area * 100\n",
    "\n",
    "# Построение графиков\n",
    "\n",
    "# 1. График первого типа: зависимость приближенного значения площади от количества точек\n",
    "plt.figure(figsize=(12, 6))\n",
    "plt.plot(data['Points'], data['Area_wide'], label='Wide Area Approximation', color='blue')\n",
    "plt.plot(data['Points'], data['Area_tight'], label='Tight Area Approximation', color='green')\n",
    "plt.axhline(y=true_area, color='red', linestyle='--', label='True Area')\n",
    "plt.xlabel('Number of Points (N)')\n",
    "plt.ylabel('Approximated Area')\n",
    "plt.title('Approximated Area vs Number of Points')\n",
    "plt.legend()\n",
    "plt.grid()\n",
    "plt.show()\n",
    "\n",
    "# 2. График второго типа: зависимость относительного отклонения от количества точек\n",
    "plt.figure(figsize=(12, 6))\n",
    "plt.plot(data['Points'], data['Relative_Error_Wide'], label='Wide Area Error (%)', color='blue')\n",
    "plt.plot(data['Points'], data['Relative_Error_Tight'], label='Tight Area Error (%)', color='green')\n",
    "plt.xlabel('Number of Points (N)')\n",
    "plt.ylabel('Relative Error (%)')\n",
    "plt.title('Relative Error vs Number of Points')\n",
    "plt.legend()\n",
    "plt.grid()\n",
    "plt.show()"
   ]
  }
 ],
 "metadata": {
  "kernelspec": {
   "display_name": "Python 3",
   "language": "python",
   "name": "python3"
  },
  "language_info": {
   "codemirror_mode": {
    "name": "ipython",
    "version": 2
   },
   "file_extension": ".py",
   "mimetype": "text/x-python",
   "name": "python",
   "nbconvert_exporter": "python",
   "pygments_lexer": "ipython2",
   "version": "2.7.6"
  }
 },
 "nbformat": 4,
 "nbformat_minor": 5
}
